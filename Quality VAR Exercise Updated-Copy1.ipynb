{
 "cells": [
  {
   "cell_type": "code",
   "execution_count": 1,
   "id": "5e19f91e",
   "metadata": {},
   "outputs": [],
   "source": [
    "import pandas as pd\n",
    "import datetime as dt"
   ]
  },
  {
   "cell_type": "code",
   "execution_count": 2,
   "id": "972bacf1",
   "metadata": {},
   "outputs": [],
   "source": [
    "dataset=pd.read_csv(\"Quality data Preprocessed data.csv\")"
   ]
  },
  {
   "cell_type": "code",
   "execution_count": 3,
   "id": "64883f40",
   "metadata": {},
   "outputs": [
    {
     "data": {
      "text/html": [
       "<div>\n",
       "<style scoped>\n",
       "    .dataframe tbody tr th:only-of-type {\n",
       "        vertical-align: middle;\n",
       "    }\n",
       "\n",
       "    .dataframe tbody tr th {\n",
       "        vertical-align: top;\n",
       "    }\n",
       "\n",
       "    .dataframe thead th {\n",
       "        text-align: right;\n",
       "    }\n",
       "</style>\n",
       "<table border=\"1\" class=\"dataframe\">\n",
       "  <thead>\n",
       "    <tr style=\"text-align: right;\">\n",
       "      <th></th>\n",
       "      <th>Product</th>\n",
       "      <th>Time</th>\n",
       "      <th>Equipment</th>\n",
       "      <th>Char A</th>\n",
       "      <th>Char B</th>\n",
       "      <th>Char C</th>\n",
       "      <th>Char D</th>\n",
       "      <th>Char E</th>\n",
       "      <th>Char A6</th>\n",
       "      <th>Char A7</th>\n",
       "      <th>Char A8</th>\n",
       "      <th>Char A9</th>\n",
       "      <th>Char A10</th>\n",
       "      <th>Class</th>\n",
       "    </tr>\n",
       "  </thead>\n",
       "  <tbody>\n",
       "    <tr>\n",
       "      <th>0</th>\n",
       "      <td>Product-1</td>\n",
       "      <td>2022-09-05</td>\n",
       "      <td>B1</td>\n",
       "      <td>82</td>\n",
       "      <td>17</td>\n",
       "      <td>12</td>\n",
       "      <td>126</td>\n",
       "      <td>119</td>\n",
       "      <td>B</td>\n",
       "      <td>C</td>\n",
       "      <td>A</td>\n",
       "      <td>H</td>\n",
       "      <td>H</td>\n",
       "      <td>H</td>\n",
       "    </tr>\n",
       "    <tr>\n",
       "      <th>1</th>\n",
       "      <td>Product-2</td>\n",
       "      <td>2022-09-05</td>\n",
       "      <td>B1</td>\n",
       "      <td>96</td>\n",
       "      <td>13</td>\n",
       "      <td>13</td>\n",
       "      <td>72</td>\n",
       "      <td>42</td>\n",
       "      <td>B</td>\n",
       "      <td>B</td>\n",
       "      <td>A</td>\n",
       "      <td>B</td>\n",
       "      <td>B</td>\n",
       "      <td>B</td>\n",
       "    </tr>\n",
       "    <tr>\n",
       "      <th>2</th>\n",
       "      <td>Product-3</td>\n",
       "      <td>2022-09-05</td>\n",
       "      <td>B1</td>\n",
       "      <td>60</td>\n",
       "      <td>12</td>\n",
       "      <td>13</td>\n",
       "      <td>56</td>\n",
       "      <td>33</td>\n",
       "      <td>B</td>\n",
       "      <td>B</td>\n",
       "      <td>A</td>\n",
       "      <td>B</td>\n",
       "      <td>B</td>\n",
       "      <td>B</td>\n",
       "    </tr>\n",
       "    <tr>\n",
       "      <th>3</th>\n",
       "      <td>Product-4</td>\n",
       "      <td>2022-09-05</td>\n",
       "      <td>B1</td>\n",
       "      <td>53</td>\n",
       "      <td>12</td>\n",
       "      <td>11</td>\n",
       "      <td>45</td>\n",
       "      <td>21</td>\n",
       "      <td>B</td>\n",
       "      <td>B</td>\n",
       "      <td>A</td>\n",
       "      <td>B</td>\n",
       "      <td>A</td>\n",
       "      <td>B</td>\n",
       "    </tr>\n",
       "    <tr>\n",
       "      <th>4</th>\n",
       "      <td>Product-5</td>\n",
       "      <td>2022-09-05</td>\n",
       "      <td>B1</td>\n",
       "      <td>56</td>\n",
       "      <td>12</td>\n",
       "      <td>17</td>\n",
       "      <td>49</td>\n",
       "      <td>26</td>\n",
       "      <td>B</td>\n",
       "      <td>B</td>\n",
       "      <td>B</td>\n",
       "      <td>B</td>\n",
       "      <td>A</td>\n",
       "      <td>B</td>\n",
       "    </tr>\n",
       "    <tr>\n",
       "      <th>...</th>\n",
       "      <td>...</td>\n",
       "      <td>...</td>\n",
       "      <td>...</td>\n",
       "      <td>...</td>\n",
       "      <td>...</td>\n",
       "      <td>...</td>\n",
       "      <td>...</td>\n",
       "      <td>...</td>\n",
       "      <td>...</td>\n",
       "      <td>...</td>\n",
       "      <td>...</td>\n",
       "      <td>...</td>\n",
       "      <td>...</td>\n",
       "      <td>...</td>\n",
       "    </tr>\n",
       "    <tr>\n",
       "      <th>5639</th>\n",
       "      <td>Product-5640</td>\n",
       "      <td>2023-04-20</td>\n",
       "      <td>B1</td>\n",
       "      <td>84</td>\n",
       "      <td>3</td>\n",
       "      <td>14</td>\n",
       "      <td>63</td>\n",
       "      <td>61</td>\n",
       "      <td>B</td>\n",
       "      <td>A</td>\n",
       "      <td>B</td>\n",
       "      <td>B</td>\n",
       "      <td>C</td>\n",
       "      <td>C</td>\n",
       "    </tr>\n",
       "    <tr>\n",
       "      <th>5640</th>\n",
       "      <td>Product-5641</td>\n",
       "      <td>2023-04-20</td>\n",
       "      <td>B4</td>\n",
       "      <td>52</td>\n",
       "      <td>2</td>\n",
       "      <td>12</td>\n",
       "      <td>42</td>\n",
       "      <td>20</td>\n",
       "      <td>B</td>\n",
       "      <td>A</td>\n",
       "      <td>A</td>\n",
       "      <td>B</td>\n",
       "      <td>A</td>\n",
       "      <td>B</td>\n",
       "    </tr>\n",
       "    <tr>\n",
       "      <th>5641</th>\n",
       "      <td>Product-5642</td>\n",
       "      <td>2023-04-20</td>\n",
       "      <td>B4</td>\n",
       "      <td>56</td>\n",
       "      <td>2</td>\n",
       "      <td>9</td>\n",
       "      <td>66</td>\n",
       "      <td>39</td>\n",
       "      <td>B</td>\n",
       "      <td>A</td>\n",
       "      <td>A</td>\n",
       "      <td>B</td>\n",
       "      <td>B</td>\n",
       "      <td>B</td>\n",
       "    </tr>\n",
       "    <tr>\n",
       "      <th>5642</th>\n",
       "      <td>Product-5643</td>\n",
       "      <td>2023-04-20</td>\n",
       "      <td>B1</td>\n",
       "      <td>51</td>\n",
       "      <td>3</td>\n",
       "      <td>13</td>\n",
       "      <td>67</td>\n",
       "      <td>43</td>\n",
       "      <td>B</td>\n",
       "      <td>A</td>\n",
       "      <td>A</td>\n",
       "      <td>B</td>\n",
       "      <td>B</td>\n",
       "      <td>B</td>\n",
       "    </tr>\n",
       "    <tr>\n",
       "      <th>5643</th>\n",
       "      <td>Product-5644</td>\n",
       "      <td>2023-04-20</td>\n",
       "      <td>B1</td>\n",
       "      <td>26</td>\n",
       "      <td>1</td>\n",
       "      <td>9</td>\n",
       "      <td>51</td>\n",
       "      <td>18</td>\n",
       "      <td>A</td>\n",
       "      <td>A</td>\n",
       "      <td>A</td>\n",
       "      <td>B</td>\n",
       "      <td>A</td>\n",
       "      <td>B</td>\n",
       "    </tr>\n",
       "  </tbody>\n",
       "</table>\n",
       "<p>5644 rows × 14 columns</p>\n",
       "</div>"
      ],
      "text/plain": [
       "           Product        Time Equipment  Char A  Char B  Char C  Char D   \n",
       "0        Product-1  2022-09-05        B1      82      17      12     126  \\\n",
       "1        Product-2  2022-09-05        B1      96      13      13      72   \n",
       "2        Product-3  2022-09-05        B1      60      12      13      56   \n",
       "3        Product-4  2022-09-05        B1      53      12      11      45   \n",
       "4        Product-5  2022-09-05        B1      56      12      17      49   \n",
       "...            ...         ...       ...     ...     ...     ...     ...   \n",
       "5639  Product-5640  2023-04-20        B1      84       3      14      63   \n",
       "5640  Product-5641  2023-04-20        B4      52       2      12      42   \n",
       "5641  Product-5642  2023-04-20        B4      56       2       9      66   \n",
       "5642  Product-5643  2023-04-20        B1      51       3      13      67   \n",
       "5643  Product-5644  2023-04-20        B1      26       1       9      51   \n",
       "\n",
       "      Char E Char A6 Char A7 Char A8 Char A9 Char A10 Class  \n",
       "0        119       B       C       A       H        H     H  \n",
       "1         42       B       B       A       B        B     B  \n",
       "2         33       B       B       A       B        B     B  \n",
       "3         21       B       B       A       B        A     B  \n",
       "4         26       B       B       B       B        A     B  \n",
       "...      ...     ...     ...     ...     ...      ...   ...  \n",
       "5639      61       B       A       B       B        C     C  \n",
       "5640      20       B       A       A       B        A     B  \n",
       "5641      39       B       A       A       B        B     B  \n",
       "5642      43       B       A       A       B        B     B  \n",
       "5643      18       A       A       A       B        A     B  \n",
       "\n",
       "[5644 rows x 14 columns]"
      ]
     },
     "execution_count": 3,
     "metadata": {},
     "output_type": "execute_result"
    }
   ],
   "source": [
    "dataset"
   ]
  },
  {
   "cell_type": "code",
   "execution_count": 4,
   "id": "af32f12d",
   "metadata": {},
   "outputs": [
    {
     "data": {
      "text/plain": [
       "Index(['Product', 'Time', 'Equipment', 'Char A', 'Char B', 'Char C', 'Char D',\n",
       "       'Char E', 'Char A6', 'Char A7', 'Char A8', 'Char A9', 'Char A10',\n",
       "       'Class'],\n",
       "      dtype='object')"
      ]
     },
     "execution_count": 4,
     "metadata": {},
     "output_type": "execute_result"
    }
   ],
   "source": [
    "dataset.columns"
   ]
  },
  {
   "cell_type": "code",
   "execution_count": 5,
   "id": "148152f0",
   "metadata": {},
   "outputs": [],
   "source": [
    "startdate=\"2015-09-05\"\n",
    "enddate=\"2023-04-20\"\n",
    "df=dataset[dataset['Time'].between(startdate,enddate)][['Time', 'Char A','Char B','Char C','Char D','Char E']]"
   ]
  },
  {
   "cell_type": "code",
   "execution_count": 6,
   "id": "669c14f1",
   "metadata": {},
   "outputs": [
    {
     "data": {
      "text/html": [
       "<div>\n",
       "<style scoped>\n",
       "    .dataframe tbody tr th:only-of-type {\n",
       "        vertical-align: middle;\n",
       "    }\n",
       "\n",
       "    .dataframe tbody tr th {\n",
       "        vertical-align: top;\n",
       "    }\n",
       "\n",
       "    .dataframe thead th {\n",
       "        text-align: right;\n",
       "    }\n",
       "</style>\n",
       "<table border=\"1\" class=\"dataframe\">\n",
       "  <thead>\n",
       "    <tr style=\"text-align: right;\">\n",
       "      <th></th>\n",
       "      <th>Time</th>\n",
       "      <th>Char A</th>\n",
       "      <th>Char B</th>\n",
       "      <th>Char C</th>\n",
       "      <th>Char D</th>\n",
       "      <th>Char E</th>\n",
       "    </tr>\n",
       "  </thead>\n",
       "  <tbody>\n",
       "    <tr>\n",
       "      <th>0</th>\n",
       "      <td>2022-09-05</td>\n",
       "      <td>82</td>\n",
       "      <td>17</td>\n",
       "      <td>12</td>\n",
       "      <td>126</td>\n",
       "      <td>119</td>\n",
       "    </tr>\n",
       "    <tr>\n",
       "      <th>1</th>\n",
       "      <td>2022-09-05</td>\n",
       "      <td>96</td>\n",
       "      <td>13</td>\n",
       "      <td>13</td>\n",
       "      <td>72</td>\n",
       "      <td>42</td>\n",
       "    </tr>\n",
       "    <tr>\n",
       "      <th>2</th>\n",
       "      <td>2022-09-05</td>\n",
       "      <td>60</td>\n",
       "      <td>12</td>\n",
       "      <td>13</td>\n",
       "      <td>56</td>\n",
       "      <td>33</td>\n",
       "    </tr>\n",
       "    <tr>\n",
       "      <th>3</th>\n",
       "      <td>2022-09-05</td>\n",
       "      <td>53</td>\n",
       "      <td>12</td>\n",
       "      <td>11</td>\n",
       "      <td>45</td>\n",
       "      <td>21</td>\n",
       "    </tr>\n",
       "    <tr>\n",
       "      <th>4</th>\n",
       "      <td>2022-09-05</td>\n",
       "      <td>56</td>\n",
       "      <td>12</td>\n",
       "      <td>17</td>\n",
       "      <td>49</td>\n",
       "      <td>26</td>\n",
       "    </tr>\n",
       "    <tr>\n",
       "      <th>...</th>\n",
       "      <td>...</td>\n",
       "      <td>...</td>\n",
       "      <td>...</td>\n",
       "      <td>...</td>\n",
       "      <td>...</td>\n",
       "      <td>...</td>\n",
       "    </tr>\n",
       "    <tr>\n",
       "      <th>5639</th>\n",
       "      <td>2023-04-20</td>\n",
       "      <td>84</td>\n",
       "      <td>3</td>\n",
       "      <td>14</td>\n",
       "      <td>63</td>\n",
       "      <td>61</td>\n",
       "    </tr>\n",
       "    <tr>\n",
       "      <th>5640</th>\n",
       "      <td>2023-04-20</td>\n",
       "      <td>52</td>\n",
       "      <td>2</td>\n",
       "      <td>12</td>\n",
       "      <td>42</td>\n",
       "      <td>20</td>\n",
       "    </tr>\n",
       "    <tr>\n",
       "      <th>5641</th>\n",
       "      <td>2023-04-20</td>\n",
       "      <td>56</td>\n",
       "      <td>2</td>\n",
       "      <td>9</td>\n",
       "      <td>66</td>\n",
       "      <td>39</td>\n",
       "    </tr>\n",
       "    <tr>\n",
       "      <th>5642</th>\n",
       "      <td>2023-04-20</td>\n",
       "      <td>51</td>\n",
       "      <td>3</td>\n",
       "      <td>13</td>\n",
       "      <td>67</td>\n",
       "      <td>43</td>\n",
       "    </tr>\n",
       "    <tr>\n",
       "      <th>5643</th>\n",
       "      <td>2023-04-20</td>\n",
       "      <td>26</td>\n",
       "      <td>1</td>\n",
       "      <td>9</td>\n",
       "      <td>51</td>\n",
       "      <td>18</td>\n",
       "    </tr>\n",
       "  </tbody>\n",
       "</table>\n",
       "<p>5644 rows × 6 columns</p>\n",
       "</div>"
      ],
      "text/plain": [
       "            Time  Char A  Char B  Char C  Char D  Char E\n",
       "0     2022-09-05      82      17      12     126     119\n",
       "1     2022-09-05      96      13      13      72      42\n",
       "2     2022-09-05      60      12      13      56      33\n",
       "3     2022-09-05      53      12      11      45      21\n",
       "4     2022-09-05      56      12      17      49      26\n",
       "...          ...     ...     ...     ...     ...     ...\n",
       "5639  2023-04-20      84       3      14      63      61\n",
       "5640  2023-04-20      52       2      12      42      20\n",
       "5641  2023-04-20      56       2       9      66      39\n",
       "5642  2023-04-20      51       3      13      67      43\n",
       "5643  2023-04-20      26       1       9      51      18\n",
       "\n",
       "[5644 rows x 6 columns]"
      ]
     },
     "execution_count": 6,
     "metadata": {},
     "output_type": "execute_result"
    }
   ],
   "source": [
    "df"
   ]
  },
  {
   "cell_type": "code",
   "execution_count": 7,
   "id": "3d9e5bc2",
   "metadata": {},
   "outputs": [],
   "source": [
    "df=df[['Char A', 'Char B', 'Char C', 'Char D','Char E']]"
   ]
  },
  {
   "cell_type": "code",
   "execution_count": 8,
   "id": "1e9251a1",
   "metadata": {},
   "outputs": [
    {
     "data": {
      "text/html": [
       "<div>\n",
       "<style scoped>\n",
       "    .dataframe tbody tr th:only-of-type {\n",
       "        vertical-align: middle;\n",
       "    }\n",
       "\n",
       "    .dataframe tbody tr th {\n",
       "        vertical-align: top;\n",
       "    }\n",
       "\n",
       "    .dataframe thead th {\n",
       "        text-align: right;\n",
       "    }\n",
       "</style>\n",
       "<table border=\"1\" class=\"dataframe\">\n",
       "  <thead>\n",
       "    <tr style=\"text-align: right;\">\n",
       "      <th></th>\n",
       "      <th>Char A</th>\n",
       "      <th>Char B</th>\n",
       "      <th>Char C</th>\n",
       "      <th>Char D</th>\n",
       "      <th>Char E</th>\n",
       "    </tr>\n",
       "  </thead>\n",
       "  <tbody>\n",
       "    <tr>\n",
       "      <th>0</th>\n",
       "      <td>82</td>\n",
       "      <td>17</td>\n",
       "      <td>12</td>\n",
       "      <td>126</td>\n",
       "      <td>119</td>\n",
       "    </tr>\n",
       "    <tr>\n",
       "      <th>1</th>\n",
       "      <td>96</td>\n",
       "      <td>13</td>\n",
       "      <td>13</td>\n",
       "      <td>72</td>\n",
       "      <td>42</td>\n",
       "    </tr>\n",
       "    <tr>\n",
       "      <th>2</th>\n",
       "      <td>60</td>\n",
       "      <td>12</td>\n",
       "      <td>13</td>\n",
       "      <td>56</td>\n",
       "      <td>33</td>\n",
       "    </tr>\n",
       "    <tr>\n",
       "      <th>3</th>\n",
       "      <td>53</td>\n",
       "      <td>12</td>\n",
       "      <td>11</td>\n",
       "      <td>45</td>\n",
       "      <td>21</td>\n",
       "    </tr>\n",
       "    <tr>\n",
       "      <th>4</th>\n",
       "      <td>56</td>\n",
       "      <td>12</td>\n",
       "      <td>17</td>\n",
       "      <td>49</td>\n",
       "      <td>26</td>\n",
       "    </tr>\n",
       "  </tbody>\n",
       "</table>\n",
       "</div>"
      ],
      "text/plain": [
       "   Char A  Char B  Char C  Char D  Char E\n",
       "0      82      17      12     126     119\n",
       "1      96      13      13      72      42\n",
       "2      60      12      13      56      33\n",
       "3      53      12      11      45      21\n",
       "4      56      12      17      49      26"
      ]
     },
     "execution_count": 8,
     "metadata": {},
     "output_type": "execute_result"
    }
   ],
   "source": [
    "df.head()"
   ]
  },
  {
   "cell_type": "code",
   "execution_count": null,
   "id": "08a3774d",
   "metadata": {},
   "outputs": [],
   "source": [
    "#column='Char A', 'Char B', 'Char C', 'Char D','Char E'"
   ]
  },
  {
   "cell_type": "code",
   "execution_count": 9,
   "id": "4561d2d9",
   "metadata": {},
   "outputs": [
    {
     "name": "stdout",
     "output_type": "stream",
     "text": [
      "Len: (5644, 5)\n"
     ]
    }
   ],
   "source": [
    "from sklearn.preprocessing import MinMaxScaler\n",
    "Ms = MinMaxScaler()\n",
    "data1= Ms.fit_transform(df)\n",
    "print(\"Len:\",data1.shape)"
   ]
  },
  {
   "cell_type": "code",
   "execution_count": 10,
   "id": "1ae44fbb",
   "metadata": {},
   "outputs": [
    {
     "data": {
      "text/plain": [
       "array([[0.47368421, 0.8125    , 0.24242424, 0.77142857, 0.88059701],\n",
       "       [0.55555556, 0.6875    , 0.27272727, 0.38571429, 0.30597015],\n",
       "       [0.34502924, 0.65625   , 0.27272727, 0.27142857, 0.23880597],\n",
       "       ...,\n",
       "       [0.32163743, 0.34375   , 0.15151515, 0.34285714, 0.28358209],\n",
       "       [0.29239766, 0.375     , 0.27272727, 0.35      , 0.31343284],\n",
       "       [0.14619883, 0.3125    , 0.15151515, 0.23571429, 0.12686567]])"
      ]
     },
     "execution_count": 10,
     "metadata": {},
     "output_type": "execute_result"
    }
   ],
   "source": [
    "data1"
   ]
  },
  {
   "cell_type": "code",
   "execution_count": 11,
   "id": "924bd03e",
   "metadata": {},
   "outputs": [
    {
     "data": {
      "text/plain": [
       "5644"
      ]
     },
     "execution_count": 11,
     "metadata": {},
     "output_type": "execute_result"
    }
   ],
   "source": [
    "len(data1)"
   ]
  },
  {
   "cell_type": "code",
   "execution_count": 12,
   "id": "f9b51463",
   "metadata": {},
   "outputs": [],
   "source": [
    "data1=pd.DataFrame(data1,columns=['Char A', 'Char B', 'Char C', 'Char D','Char E'])"
   ]
  },
  {
   "cell_type": "code",
   "execution_count": 13,
   "id": "cc90e7ca",
   "metadata": {},
   "outputs": [
    {
     "data": {
      "text/html": [
       "<div>\n",
       "<style scoped>\n",
       "    .dataframe tbody tr th:only-of-type {\n",
       "        vertical-align: middle;\n",
       "    }\n",
       "\n",
       "    .dataframe tbody tr th {\n",
       "        vertical-align: top;\n",
       "    }\n",
       "\n",
       "    .dataframe thead th {\n",
       "        text-align: right;\n",
       "    }\n",
       "</style>\n",
       "<table border=\"1\" class=\"dataframe\">\n",
       "  <thead>\n",
       "    <tr style=\"text-align: right;\">\n",
       "      <th></th>\n",
       "      <th>Char A</th>\n",
       "      <th>Char B</th>\n",
       "      <th>Char C</th>\n",
       "      <th>Char D</th>\n",
       "      <th>Char E</th>\n",
       "    </tr>\n",
       "  </thead>\n",
       "  <tbody>\n",
       "    <tr>\n",
       "      <th>0</th>\n",
       "      <td>0.473684</td>\n",
       "      <td>0.81250</td>\n",
       "      <td>0.242424</td>\n",
       "      <td>0.771429</td>\n",
       "      <td>0.880597</td>\n",
       "    </tr>\n",
       "    <tr>\n",
       "      <th>1</th>\n",
       "      <td>0.555556</td>\n",
       "      <td>0.68750</td>\n",
       "      <td>0.272727</td>\n",
       "      <td>0.385714</td>\n",
       "      <td>0.305970</td>\n",
       "    </tr>\n",
       "    <tr>\n",
       "      <th>2</th>\n",
       "      <td>0.345029</td>\n",
       "      <td>0.65625</td>\n",
       "      <td>0.272727</td>\n",
       "      <td>0.271429</td>\n",
       "      <td>0.238806</td>\n",
       "    </tr>\n",
       "    <tr>\n",
       "      <th>3</th>\n",
       "      <td>0.304094</td>\n",
       "      <td>0.65625</td>\n",
       "      <td>0.212121</td>\n",
       "      <td>0.192857</td>\n",
       "      <td>0.149254</td>\n",
       "    </tr>\n",
       "    <tr>\n",
       "      <th>4</th>\n",
       "      <td>0.321637</td>\n",
       "      <td>0.65625</td>\n",
       "      <td>0.393939</td>\n",
       "      <td>0.221429</td>\n",
       "      <td>0.186567</td>\n",
       "    </tr>\n",
       "    <tr>\n",
       "      <th>...</th>\n",
       "      <td>...</td>\n",
       "      <td>...</td>\n",
       "      <td>...</td>\n",
       "      <td>...</td>\n",
       "      <td>...</td>\n",
       "    </tr>\n",
       "    <tr>\n",
       "      <th>5639</th>\n",
       "      <td>0.485380</td>\n",
       "      <td>0.37500</td>\n",
       "      <td>0.303030</td>\n",
       "      <td>0.321429</td>\n",
       "      <td>0.447761</td>\n",
       "    </tr>\n",
       "    <tr>\n",
       "      <th>5640</th>\n",
       "      <td>0.298246</td>\n",
       "      <td>0.34375</td>\n",
       "      <td>0.242424</td>\n",
       "      <td>0.171429</td>\n",
       "      <td>0.141791</td>\n",
       "    </tr>\n",
       "    <tr>\n",
       "      <th>5641</th>\n",
       "      <td>0.321637</td>\n",
       "      <td>0.34375</td>\n",
       "      <td>0.151515</td>\n",
       "      <td>0.342857</td>\n",
       "      <td>0.283582</td>\n",
       "    </tr>\n",
       "    <tr>\n",
       "      <th>5642</th>\n",
       "      <td>0.292398</td>\n",
       "      <td>0.37500</td>\n",
       "      <td>0.272727</td>\n",
       "      <td>0.350000</td>\n",
       "      <td>0.313433</td>\n",
       "    </tr>\n",
       "    <tr>\n",
       "      <th>5643</th>\n",
       "      <td>0.146199</td>\n",
       "      <td>0.31250</td>\n",
       "      <td>0.151515</td>\n",
       "      <td>0.235714</td>\n",
       "      <td>0.126866</td>\n",
       "    </tr>\n",
       "  </tbody>\n",
       "</table>\n",
       "<p>5644 rows × 5 columns</p>\n",
       "</div>"
      ],
      "text/plain": [
       "        Char A   Char B    Char C    Char D    Char E\n",
       "0     0.473684  0.81250  0.242424  0.771429  0.880597\n",
       "1     0.555556  0.68750  0.272727  0.385714  0.305970\n",
       "2     0.345029  0.65625  0.272727  0.271429  0.238806\n",
       "3     0.304094  0.65625  0.212121  0.192857  0.149254\n",
       "4     0.321637  0.65625  0.393939  0.221429  0.186567\n",
       "...        ...      ...       ...       ...       ...\n",
       "5639  0.485380  0.37500  0.303030  0.321429  0.447761\n",
       "5640  0.298246  0.34375  0.242424  0.171429  0.141791\n",
       "5641  0.321637  0.34375  0.151515  0.342857  0.283582\n",
       "5642  0.292398  0.37500  0.272727  0.350000  0.313433\n",
       "5643  0.146199  0.31250  0.151515  0.235714  0.126866\n",
       "\n",
       "[5644 rows x 5 columns]"
      ]
     },
     "execution_count": 13,
     "metadata": {},
     "output_type": "execute_result"
    }
   ],
   "source": [
    "data1"
   ]
  },
  {
   "cell_type": "code",
   "execution_count": 14,
   "id": "9146d85e",
   "metadata": {},
   "outputs": [
    {
     "name": "stdout",
     "output_type": "stream",
     "text": [
      "4515\n",
      "X_train length: (4515, 5)\n",
      "X_test length: (1129, 5)\n",
      "y_train length: (4515, 5)\n",
      "y_test length: (1129, 5)\n"
     ]
    }
   ],
   "source": [
    "training_size=round(len(data1)*0.80)\n",
    "print(training_size)\n",
    "X_train=data1[:training_size]\n",
    "X_test=data1[training_size:]\n",
    "print(\"X_train length:\",X_train.shape)\n",
    "print(\"X_test length:\",X_test.shape)\n",
    "y_train=data1[:training_size]\n",
    "y_test=data1[training_size:]\n",
    "print(\"y_train length:\",y_train.shape)\n",
    "print(\"y_test length:\",y_test.shape)"
   ]
  },
  {
   "cell_type": "code",
   "execution_count": 15,
   "id": "0c5399e9",
   "metadata": {},
   "outputs": [],
   "source": [
    "Quality={'Model':[],'Char A':[],'Char B':[],'Char C':[],'Char D':[],'Char E':[]}"
   ]
  },
  {
   "cell_type": "code",
   "execution_count": 16,
   "id": "f712b5c5",
   "metadata": {},
   "outputs": [
    {
     "data": {
      "text/plain": [
       "{'Model': [],\n",
       " 'Char A': [],\n",
       " 'Char B': [],\n",
       " 'Char C': [],\n",
       " 'Char D': [],\n",
       " 'Char E': []}"
      ]
     },
     "execution_count": 16,
     "metadata": {},
     "output_type": "execute_result"
    }
   ],
   "source": [
    "Quality"
   ]
  },
  {
   "cell_type": "code",
   "execution_count": null,
   "id": "79052822",
   "metadata": {},
   "outputs": [],
   "source": [
    "#data1"
   ]
  },
  {
   "cell_type": "code",
   "execution_count": 17,
   "id": "cb4c791e",
   "metadata": {},
   "outputs": [],
   "source": [
    "listt=['Char A', 'Char B', 'Char C', 'Char D','Char E']"
   ]
  },
  {
   "cell_type": "code",
   "execution_count": 18,
   "id": "d2f3151a",
   "metadata": {},
   "outputs": [
    {
     "data": {
      "text/plain": [
       "['Char A', 'Char B', 'Char C', 'Char D', 'Char E']"
      ]
     },
     "execution_count": 18,
     "metadata": {},
     "output_type": "execute_result"
    }
   ],
   "source": [
    "listt"
   ]
  },
  {
   "cell_type": "code",
   "execution_count": 19,
   "id": "bcdb6926",
   "metadata": {},
   "outputs": [
    {
     "name": "stdout",
     "output_type": "stream",
     "text": [
      "Order = 1\n",
      "AIC:  21.718260383901935\n",
      "BIC:  21.75370043840152\n",
      "\n",
      "Order = 2\n",
      "AIC:  21.508477472246387\n",
      "BIC:  21.573460734025993\n",
      "\n",
      "Order = 3\n",
      "AIC:  21.41257490767942\n",
      "BIC:  21.50711031640833\n",
      "\n",
      "Order = 4\n",
      "AIC:  21.348903959383307\n",
      "BIC:  21.473000459085434\n",
      "\n",
      "Order = 5\n",
      "AIC:  21.32229349894312\n",
      "BIC:  21.475960037999908\n",
      "\n",
      "Order = 6\n",
      "AIC:  21.29978516925267\n",
      "BIC:  21.483030700405983\n",
      "\n",
      "Order = 7\n",
      "AIC:  21.28327097606474\n",
      "BIC:  21.496104456419793\n",
      "\n",
      "Order = 8\n",
      "AIC:  21.273940739344585\n",
      "BIC:  21.516371130372843\n",
      "\n",
      "Order = 9\n",
      "AIC:  21.266120306855775\n",
      "BIC:  21.538156574397856\n",
      "\n",
      "Order = 10\n",
      "AIC:  21.25753806718996\n",
      "BIC:  21.559189181458564\n",
      "\n"
     ]
    }
   ],
   "source": [
    "datasetTwo=df[listt]\n",
    "test_obs = 28\n",
    "train =datasetTwo[:-test_obs]\n",
    "test = datasetTwo[-test_obs:]\n",
    "from statsmodels.tsa.api import VAR\n",
    "for i in [1,2,3,4,5,6,7,8,9,10]:\n",
    "    model = VAR(train)\n",
    "    results = model.fit(i)\n",
    "    print('Order =', i)\n",
    "    print('AIC: ', results.aic)\n",
    "    print('BIC: ', results.bic)\n",
    "    print()\n",
    "x = model.select_order(maxlags=12)\n",
    "order=x.selected_orders[\"aic\"]\n",
    "result = model.fit(order)"
   ]
  },
  {
   "cell_type": "code",
   "execution_count": 20,
   "id": "db9a2ec9",
   "metadata": {},
   "outputs": [],
   "source": [
    "#forecast =result.forecast(result,steps=12)"
   ]
  },
  {
   "cell_type": "code",
   "execution_count": 21,
   "id": "47b4107a",
   "metadata": {},
   "outputs": [
    {
     "data": {
      "text/plain": [
       "Index(['Char A', 'Char B', 'Char C', 'Char D', 'Char E'], dtype='object')"
      ]
     },
     "execution_count": 21,
     "metadata": {},
     "output_type": "execute_result"
    }
   ],
   "source": [
    "data1.columns"
   ]
  },
  {
   "cell_type": "code",
   "execution_count": 29,
   "id": "dde92b92",
   "metadata": {},
   "outputs": [
    {
     "name": "stdout",
     "output_type": "stream",
     "text": [
      "               Char A    Char B     Char C     Char D     Char E\n",
      "2023-04-21  16.805944  0.488152   2.839171  34.413403  17.149005\n",
      "2023-04-22  20.736350  0.648037   3.195804  37.449912  19.233011\n",
      "2023-04-23  23.128740  0.767247   3.564002  40.053940  20.465081\n",
      "2023-04-24  26.203455  0.954837   3.740992  42.059451  21.110304\n",
      "2023-04-25  28.050106  1.053243   4.038529  43.225565  21.452895\n",
      "2023-04-26  30.400605  1.222399   4.272810  44.378026  22.072258\n",
      "2023-04-27  31.465468  1.346917   4.473722  45.712690  22.332675\n",
      "2023-04-28  34.072207  1.550475   4.728304  48.281673  23.964795\n",
      "2023-04-29  35.734836  1.652750   5.120900  50.105948  24.613974\n",
      "2023-04-30  36.749146  1.788691   5.421213  51.649914  25.568683\n",
      "2023-05-01  37.676696  1.976581   5.952606  54.360482  27.932129\n",
      "2023-05-02  38.700908  2.129218   6.228018  55.288462  28.632819\n",
      "2023-05-03  39.608779  2.279741   6.483697  56.154057  29.219387\n",
      "2023-05-04  40.418183  2.426076   6.712898  56.849271  29.752877\n",
      "2023-05-05  41.171151  2.560470   6.947645  57.537531  30.282182\n",
      "2023-05-06  41.833346  2.692323   7.168914  58.147132  30.711711\n",
      "2023-05-07  42.359372  2.822511   7.393816  58.759201  31.151426\n",
      "2023-05-08  42.930571  2.949976   7.625341  59.401873  31.719777\n",
      "2023-05-09  43.408749  3.079109   7.861307  59.913801  32.196263\n",
      "2023-05-10  43.805104  3.197833   8.074487  60.380879  32.656528\n",
      "2023-05-11  44.225580  3.316086   8.288888  60.807251  33.099299\n",
      "2023-05-12  44.605630  3.428814   8.476199  61.133187  33.434667\n",
      "2023-05-13  44.952611  3.537584   8.655019  61.433726  33.742339\n",
      "2023-05-14  45.272635  3.641678   8.826184  61.700841  34.023889\n",
      "2023-05-15  45.572046  3.742146   8.992958  61.950047  34.292361\n",
      "2023-05-16  45.856222  3.838656   9.154012  62.177391  34.543533\n",
      "2023-05-17  46.115770  3.932190   9.310491  62.384996  34.784042\n",
      "2023-05-18  46.367372  4.021478   9.462072  62.581715  35.022094\n",
      "2023-05-19  46.600509  4.108354   9.607138  62.751304  35.234590\n",
      "2023-05-20  46.820452  4.190759   9.744813  62.907772  35.434134\n",
      "2023-05-21  47.028963  4.270342   9.876885  63.048801  35.617755\n",
      "2023-05-22  47.226293  4.346659  10.002284  63.176703  35.786178\n",
      "2023-05-23  47.413725  4.419920  10.122568  63.293984  35.943300\n",
      "2023-05-24  47.592058  4.490084  10.238190  63.401728  36.090558\n",
      "2023-05-25  47.761893  4.557462  10.349378  63.501298  36.229806\n",
      "2023-05-26  47.924177  4.622018  10.456200  63.593489  36.361321\n",
      "2023-05-27  48.078005  4.683961  10.558695  63.678059  36.484899\n",
      "2023-05-28  48.225258  4.743254  10.657023  63.757195  36.602166\n",
      "2023-05-29  48.365394  4.800188  10.751101  63.829526  36.711266\n",
      "2023-05-30  48.499305  4.854640  10.841171  63.896953  36.814117\n",
      "2023-05-31  48.627289  4.906849  10.927482  63.959408  36.910624\n",
      "2023-06-01  48.749774  4.956847  11.010177  64.017611  37.001572\n",
      "2023-06-02  48.867016  5.004727  11.089478  64.071791  37.087388\n",
      "2023-06-03  48.979216  5.050565  11.165555  64.122400  37.168531\n",
      "2023-06-04  49.086597  5.094461  11.238504  64.169732  37.245363\n",
      "2023-06-05  49.189450  5.136480  11.308450  64.214071  37.318104\n",
      "2023-06-06  49.287844  5.176705  11.375485  64.255547  37.386890\n",
      "2023-06-07  49.382139  5.215203  11.439740  64.294558  37.452103\n",
      "2023-06-08  49.472447  5.252055  11.501305  64.331113  37.513764\n",
      "2023-06-09  49.558998  5.287314  11.560313  64.365515  37.572232\n",
      "2023-06-10  49.641944  5.321056  11.616874  64.397876  37.627661\n",
      "2023-06-11  49.721454  5.353339  11.671093  64.428371  37.680278\n",
      "2023-06-12  49.797667  5.384224  11.723069  64.457116  37.730245\n",
      "2023-06-13  49.870715  5.413770  11.772897  64.484248  37.777725\n",
      "2023-06-14  49.940736  5.442033  11.820658  64.509876  37.822863\n",
      "2023-06-15  50.007864  5.469068  11.866440  64.534102  37.865781\n",
      "2023-06-16  50.072211  5.494924  11.910321  64.557011  37.906597\n",
      "2023-06-17  50.133908  5.519653  11.952383  64.578703  37.945438\n",
      "2023-06-18  50.193061  5.543301  11.992699  64.599239  37.982401\n",
      "2023-06-19  50.249778  5.565914  12.031344  64.618702  38.017599\n"
     ]
    }
   ],
   "source": [
    "# Assuming `model` is the fitted VAR model\n",
    "# `data1` is the preprocessed dataset used for training\n",
    "\n",
    "# Get the last lagged values from the training data as input for prediction\n",
    "lagged_values = data1[-order:]\n",
    "\n",
    "# Predict the next 5 days\n",
    "predictions = results.forecast(y=lagged_values.values, steps=60)\n",
    "\n",
    "# Create a date range for the next 5 days\n",
    "last_date = pd.to_datetime(dataset[\"Time\"].iloc[-1])\n",
    "\n",
    "date_range = pd.date_range(last_date + pd.DateOffset(1), periods=60)\n",
    "\n",
    "# Convert the predictions array to a DataFrame and assign the date range as the index\n",
    "predictions_df = pd.DataFrame(predictions, columns=listt, index=date_range)\n",
    "\n",
    "# Print the predictions\n",
    "print(predictions_df)"
   ]
  },
  {
   "cell_type": "code",
   "execution_count": null,
   "id": "e094aa4f",
   "metadata": {},
   "outputs": [],
   "source": [
    "from stockFunctions import graph\n",
    "graph(df[['Char A', 'Char B', 'Char C', 'Char D', 'Char E']], result.fittedvalues[['Char A', 'Char B', 'Char C', 'Char D', 'Char E']], \"Actual\", \"Predicted\", \"Quality data\", \"Time\", 'Data')"
   ]
  },
  {
   "cell_type": "code",
   "execution_count": null,
   "id": "d85ae4f5",
   "metadata": {},
   "outputs": [],
   "source": [
    "len(data1)"
   ]
  },
  {
   "cell_type": "code",
   "execution_count": null,
   "id": "8aa1a346",
   "metadata": {},
   "outputs": [],
   "source": [
    "y_test"
   ]
  },
  {
   "cell_type": "code",
   "execution_count": null,
   "id": "3e2ccccd",
   "metadata": {},
   "outputs": [],
   "source": [
    "aTestNormTable=y_test"
   ]
  },
  {
   "cell_type": "code",
   "execution_count": null,
   "id": "174fd75b",
   "metadata": {},
   "outputs": [],
   "source": [
    "aTestNormTable"
   ]
  },
  {
   "cell_type": "code",
   "execution_count": null,
   "id": "dd7635a5",
   "metadata": {},
   "outputs": [],
   "source": [
    "actual_stock_price_test_ori=Ms.inverse_transform(aTestNormTable)"
   ]
  },
  {
   "cell_type": "code",
   "execution_count": null,
   "id": "99d5a9a2",
   "metadata": {},
   "outputs": [],
   "source": [
    "actual_stock_price_test_ori"
   ]
  },
  {
   "cell_type": "code",
   "execution_count": null,
   "id": "6f7843ae",
   "metadata": {},
   "outputs": [],
   "source": [
    "actual_stock_price_test_oriA=conversionSingle(actual_stock_price_test_ori,[df])"
   ]
  },
  {
   "cell_type": "code",
   "execution_count": null,
   "id": "cb6af7b1",
   "metadata": {},
   "outputs": [],
   "source": [
    "actual_stock_price_test_oriA"
   ]
  },
  {
   "cell_type": "code",
   "execution_count": null,
   "id": "518fc9f4",
   "metadata": {},
   "outputs": [],
   "source": [
    "from stockFunctions import conversionSingle\n",
    "aTestNormTable=y_test\n",
    "actual_stock_price_test_ori=Ms.inverse_transform(aTestNormTable)\n",
    "actual_stock_price_test_oriA=conversionSingle(actual_stock_price_test_ori,[df])"
   ]
  },
  {
   "cell_type": "code",
   "execution_count": null,
   "id": "f75ba553",
   "metadata": {},
   "outputs": [],
   "source": [
    "actual_stock_price_test_oriA"
   ]
  },
  {
   "cell_type": "code",
   "execution_count": null,
   "id": "070387f7",
   "metadata": {},
   "outputs": [],
   "source": [
    "from stockFunctions import conversionSingle\n",
    "pTestNormTable=predictions\n",
    "predicted_stock_price_test_ori=Ms.inverse_transform(pTestNormTable)\n",
    "predicted_stock_price_test_oriP=conversionSingle(predicted_stock_price_test_ori)"
   ]
  },
  {
   "cell_type": "code",
   "execution_count": null,
   "id": "3b7534cd",
   "metadata": {},
   "outputs": [],
   "source": [
    "predicted_stock_price_test_oriP"
   ]
  },
  {
   "cell_type": "code",
   "execution_count": null,
   "id": "3cba597f",
   "metadata": {},
   "outputs": [],
   "source": [
    "from stockFunctions import graph\n",
    "graph(actual_stock_price_test_oriA,predicted_stock_price_test_oriP,\"Actual\",\"Predicted\",\"Quality data\",\"Time\",\"Char A\")"
   ]
  },
  {
   "cell_type": "code",
   "execution_count": null,
   "id": "9b936317",
   "metadata": {},
   "outputs": [],
   "source": [
    "from stockFunctions import rmsemape\n",
    "rmsemape(actual_stock_price_test_oriA,predicted_stock_price_test_oriP)"
   ]
  },
  {
   "cell_type": "code",
   "execution_count": null,
   "id": "b1c20ddc",
   "metadata": {},
   "outputs": [],
   "source": []
  }
 ],
 "metadata": {
  "kernelspec": {
   "display_name": "Python 3 (ipykernel)",
   "language": "python",
   "name": "python3"
  },
  "language_info": {
   "codemirror_mode": {
    "name": "ipython",
    "version": 3
   },
   "file_extension": ".py",
   "mimetype": "text/x-python",
   "name": "python",
   "nbconvert_exporter": "python",
   "pygments_lexer": "ipython3",
   "version": "3.11.3"
  }
 },
 "nbformat": 4,
 "nbformat_minor": 5
}
